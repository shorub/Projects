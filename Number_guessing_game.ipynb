{
  "nbformat": 4,
  "nbformat_minor": 0,
  "metadata": {
    "colab": {
      "provenance": [],
      "authorship_tag": "ABX9TyMi34r9/YiveyPw0eg0WbJ+",
      "include_colab_link": true
    },
    "kernelspec": {
      "name": "python3",
      "display_name": "Python 3"
    },
    "language_info": {
      "name": "python"
    }
  },
  "cells": [
    {
      "cell_type": "markdown",
      "metadata": {
        "id": "view-in-github",
        "colab_type": "text"
      },
      "source": [
        "<a href=\"https://colab.research.google.com/github/shorub/Projects/blob/main/Number_guessing_game.ipynb\" target=\"_parent\"><img src=\"https://colab.research.google.com/assets/colab-badge.svg\" alt=\"Open In Colab\"/></a>"
      ]
    },
    {
      "cell_type": "code",
      "execution_count": null,
      "metadata": {
        "id": "nWlnte18GajE",
        "colab": {
          "base_uri": "https://localhost:8080/"
        },
        "outputId": "c6cc546d-8447-4c0b-d1c6-cb94a708a36b"
      },
      "outputs": [
        {
          "output_type": "stream",
          "name": "stdout",
          "text": [
            "Enter your guess:5\n",
            "Too low, try again!\n",
            "Enter your guess:17\n",
            "Congratulations, you won!\n",
            "It took 2 attempts\n"
          ]
        }
      ],
      "source": [
        "import random\n",
        "\n",
        "def guess_number():\n",
        "  secret_number = random.randint(1,21)\n",
        "  attempts = 0\n",
        "  guess = 0\n",
        "  list_of_guesses = []\n",
        "\n",
        "  while guess != secret_number:\n",
        "    try:\n",
        "      guess = int(input(\"Enter your guess:\"))\n",
        "      list_of_guesses.append(guess)\n",
        "      attempts += 1\n",
        "\n",
        "      if guess == secret_number:\n",
        "        print('Congratulations, you won!')\n",
        "        print('It took', attempts,'attempts')\n",
        "      elif guess > secret_number:\n",
        "        print('Too high, try again')\n",
        "      else:\n",
        "        print('Too low, try again!')\n",
        "    except ValueError:\n",
        "      print('Enter a valid number')\n",
        "      print('All your guesses are as follow:')\n",
        "      print(list_of_guesses)\n",
        "guess_number()"
      ]
    },
    {
      "cell_type": "markdown",
      "source": [],
      "metadata": {
        "id": "OYB0B8omrF0v"
      }
    },
    {
      "cell_type": "code",
      "source": [
        "import random\n",
        "\n",
        "def guess_number():\n",
        "    # Generate a random number between 1 and 100\n",
        "    secret_number = random.randint(1, 100)\n",
        "\n",
        "    # Initialize variables\n",
        "    attempts = 0\n",
        "    guessed_number = 0\n",
        "    guesses_list = []\n",
        "\n",
        "    print(\"Welcome to the Number Guessing Game!\")\n",
        "    print(\"Try to guess the secret number between 1 and 100.\")\n",
        "\n",
        "    while guessed_number != secret_number:\n",
        "        try:\n",
        "            # Get user input\n",
        "            guessed_number = int(input(\"Enter your guess: \"))\n",
        "\n",
        "            # Increment attempts\n",
        "            attempts += 1\n",
        "\n",
        "            # Add the guess to the list\n",
        "            guesses_list.append(guessed_number)\n",
        "\n",
        "            # Check if the guess is correct\n",
        "            if guessed_number == secret_number:\n",
        "                print(f\"Congratulations! You guessed the number in {attempts} attempts.\")\n",
        "            elif guessed_number < secret_number:\n",
        "                print(\"Too low. Try again.\")\n",
        "            else:\n",
        "                print(\"Too high. Try again.\")\n",
        "        except ValueError:\n",
        "            print(\"Please enter a valid number.\")\n",
        "\n",
        "    # Print all guesses at the end\n",
        "    print(\"Here are all your guesses:\")\n",
        "    print(guesses_list)\n",
        "\n",
        "# Run the game\n",
        "guess_number()"
      ],
      "metadata": {
        "id": "qk9znMB5rGJF",
        "colab": {
          "base_uri": "https://localhost:8080/"
        },
        "outputId": "29eebb45-63ec-4346-e35e-8734962549ab"
      },
      "execution_count": null,
      "outputs": [
        {
          "output_type": "stream",
          "name": "stdout",
          "text": [
            "Welcome to the Number Guessing Game!\n",
            "Try to guess the secret number between 1 and 100.\n",
            "Enter your guess: 58\n",
            "Too high. Try again.\n",
            "Enter your guess: 30\n",
            "Too low. Try again.\n",
            "Enter your guess: 40\n",
            "Too low. Try again.\n",
            "Enter your guess: 50\n",
            "Too high. Try again.\n",
            "Enter your guess: 45\n",
            "Too low. Try again.\n",
            "Enter your guess: 48\n",
            "Too high. Try again.\n",
            "Enter your guess: 46\n",
            "Too low. Try again.\n",
            "Enter your guess: 47\n",
            "Congratulations! You guessed the number in 8 attempts.\n",
            "Here are all your guesses:\n",
            "[58, 30, 40, 50, 45, 48, 46, 47]\n"
          ]
        }
      ]
    }
  ]
}