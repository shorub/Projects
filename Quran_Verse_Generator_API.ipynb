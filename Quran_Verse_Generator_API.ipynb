{
  "nbformat": 4,
  "nbformat_minor": 0,
  "metadata": {
    "colab": {
      "provenance": [],
      "authorship_tag": "ABX9TyMZaiXSAVnxxgGemSArBukW",
      "include_colab_link": true
    },
    "kernelspec": {
      "name": "python3",
      "display_name": "Python 3"
    },
    "language_info": {
      "name": "python"
    }
  },
  "cells": [
    {
      "cell_type": "markdown",
      "metadata": {
        "id": "view-in-github",
        "colab_type": "text"
      },
      "source": [
        "<a href=\"https://colab.research.google.com/github/shorub/Projects/blob/main/Quran_Verse_Generator_API.ipynb\" target=\"_parent\"><img src=\"https://colab.research.google.com/assets/colab-badge.svg\" alt=\"Open In Colab\"/></a>"
      ]
    },
    {
      "cell_type": "code",
      "source": [
        "#importing the modules\n",
        "import random\n",
        "import requests"
      ],
      "metadata": {
        "id": "uyoTzrEpjlrX"
      },
      "execution_count": 89,
      "outputs": []
    },
    {
      "cell_type": "code",
      "source": [
        "ayah = random.randint(1,6237) #generating a random number which would correspond to the verse\n",
        "api_response = requests.get('https://api.alquran.cloud/v1/ayah/'+str(ayah)+'/editions/quran-uthmani,en.pickthall')\n",
        "api_data = api_response.json()\n",
        "\n",
        "#Printing only the english and arabic\n",
        "print(api_data['data'][0]['text'])\n",
        "print(api_data['data'][1]['text'])\n",
        "\n",
        "#printing the surah name and verse number\n",
        "print(api_data['data'][0]['surah']['englishName']+' '+str(api_data['data'][0]['numberInSurah']))\n"
      ],
      "metadata": {
        "colab": {
          "base_uri": "https://localhost:8080/"
        },
        "id": "WOStW-EMrEqr",
        "outputId": "25da4172-d2ba-4dc6-9ca8-0383d33311bc"
      },
      "execution_count": 97,
      "outputs": [
        {
          "output_type": "stream",
          "name": "stdout",
          "text": [
            "وَيْلٌۭ لِّكُلِّ أَفَّاكٍ أَثِيمٍۢ\n",
            "Woe unto each sinful liar,\n",
            "Al-Jaathiya 7\n"
          ]
        }
      ]
    }
  ]
}