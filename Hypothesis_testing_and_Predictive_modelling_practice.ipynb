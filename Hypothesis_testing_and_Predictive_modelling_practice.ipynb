{
  "nbformat": 4,
  "nbformat_minor": 0,
  "metadata": {
    "colab": {
      "private_outputs": true,
      "provenance": [],
      "include_colab_link": true
    },
    "kernelspec": {
      "name": "python3",
      "display_name": "Python 3"
    },
    "language_info": {
      "name": "python"
    }
  },
  "cells": [
    {
      "cell_type": "markdown",
      "metadata": {
        "id": "view-in-github",
        "colab_type": "text"
      },
      "source": [
        "<a href=\"https://colab.research.google.com/github/shorub/Projects/blob/main/Hypothesis_testing_and_Predictive_modelling_practice.ipynb\" target=\"_parent\"><img src=\"https://colab.research.google.com/assets/colab-badge.svg\" alt=\"Open In Colab\"/></a>"
      ]
    },
    {
      "cell_type": "markdown",
      "source": [
        "\n",
        "## Introduction to Hypothesis Testing"
      ],
      "metadata": {
        "id": "_WFlF9fyMev9"
      }
    },
    {
      "cell_type": "markdown",
      "source": [
        "Hypothesis testing is a crucial statistical method used to make inferences about population parameters based on sample data. It helps us determine whether an observed effect is statistically significant or if it occurred by chance."
      ],
      "metadata": {
        "id": "-letzYO8MimW"
      }
    },
    {
      "cell_type": "code",
      "source": [
        "import numpy as np\n",
        "from scipy import stats"
      ],
      "metadata": {
        "id": "OBvV2HJTMhMX"
      },
      "execution_count": null,
      "outputs": []
    },
    {
      "cell_type": "code",
      "source": [
        "np.random.seed(0)\n",
        "groupA_heights = np.random.normal(175, 5, 100)\n",
        "groupB_heights = np.random.normal(180, 5, 100)"
      ],
      "metadata": {
        "id": "bvxvCX7x-ohf"
      },
      "execution_count": null,
      "outputs": []
    },
    {
      "cell_type": "code",
      "source": [
        "t_statistic, p_value = stats.ttest_ind(groupA_heights, groupB_heights)\n",
        "print(\"t-statistic:\", t_statistic)\n",
        "print(\"p-value:\", p_value)"
      ],
      "metadata": {
        "id": "TqHJU1g7AHFB"
      },
      "execution_count": null,
      "outputs": []
    },
    {
      "cell_type": "markdown",
      "source": [
        "## Setting Up Null and Alternative Hypotheses\n",
        "\n",
        "* Null Hypothesis (H0): This represents the default assumption, typically stating no effect or no difference.\n",
        "\n",
        "* Alternative Hypothesis (H1 or Ha): This represents the hypothesis we are trying to test, suggesting that there is an effect or difference present."
      ],
      "metadata": {
        "id": "4NQilGpYM61n"
      }
    },
    {
      "cell_type": "markdown",
      "source": [
        "## Introduction to t-tests and chi-square tests\n",
        "\n",
        "* T-tests: T-tests are used to determine if there is a significant difference between the means of two groups.\n",
        "\n",
        "* Chi-square tests: Chi-square tests are used to assess the association between categorical variables."
      ],
      "metadata": {
        "id": "d5p3CIL7NCBN"
      }
    },
    {
      "cell_type": "code",
      "source": [
        "import numpy as np\n",
        "from scipy.stats import chi2_contingency\n",
        "\n",
        "values = np.array([[10, 20, 30], [6, 9, 17]])\n",
        "chi2, p, dof, expected = chi2_contingency(values)\n",
        "\n",
        "print(\"Chi-square statistic:\", chi2)\n",
        "print(\"p-value:\", p)\n",
        "print(\"Degrees of freedom:\", dof)\n",
        "print(\"Expected frequencies:\")\n",
        "print(expected)"
      ],
      "metadata": {
        "id": "Z8yncFIhNf5Z"
      },
      "execution_count": null,
      "outputs": []
    },
    {
      "cell_type": "markdown",
      "source": [
        "Try the same with bigger data set"
      ],
      "metadata": {
        "id": "m7a2HoN3Nt2U"
      }
    },
    {
      "cell_type": "code",
      "source": [
        "import pandas as pd\n",
        "import matplotlib.pyplot as plt\n",
        "from sklearn.model_selection import train_test_split\n",
        "from sklearn.linear_model import LinearRegression\n",
        "from sklearn.metrics import r2_score\n",
        "\n",
        "data = pd.read_csv('data.csv')\n",
        "data\n"
      ],
      "metadata": {
        "id": "bLRH1SO2t5Vi"
      },
      "execution_count": null,
      "outputs": []
    },
    {
      "cell_type": "code",
      "source": [
        "data.dropna(inplace = True)\n",
        "\n",
        "duration = data['Duration']\n",
        "x = duration.values.reshape(-1, 1)\n",
        "y= data['Calories']\n",
        "\n",
        "x_train, x_test, y_train, y_test = train_test_split(x, y, test_size = 0.2, random_state = 42)\n",
        "\n",
        "model = LinearRegression()\n",
        "model.fit(x_train, y_train)\n",
        "\n",
        "y_pred = model.predict(x_test)\n",
        "r_2 = r2_score(y_test, y_pred)\n",
        "print(\"R²:\", r_2)"
      ],
      "metadata": {
        "id": "wAm2ZL3OuPu1"
      },
      "execution_count": null,
      "outputs": []
    },
    {
      "cell_type": "code",
      "source": [
        "values = data[['Duration', 'Calories']]\n",
        "chi2, p, dof, expected = chi2_contingency(values)\n",
        "\n",
        "print(\"Chi-square statistic:\", chi2)\n",
        "print(\"p-value:\", p)\n",
        "print(\"Degrees of freedom:\", dof)\n",
        "print(\"Expected frequencies:\")\n",
        "print(expected)"
      ],
      "metadata": {
        "id": "UQnF_-3RzUIS"
      },
      "execution_count": null,
      "outputs": []
    }
  ]
}